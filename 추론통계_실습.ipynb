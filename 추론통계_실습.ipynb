{
  "nbformat": 4,
  "nbformat_minor": 0,
  "metadata": {
    "colab": {
      "provenance": [],
      "include_colab_link": true
    },
    "kernelspec": {
      "name": "python3",
      "display_name": "Python 3"
    },
    "language_info": {
      "name": "python"
    }
  },
  "cells": [
    {
      "cell_type": "markdown",
      "metadata": {
        "id": "view-in-github",
        "colab_type": "text"
      },
      "source": [
        "<a href=\"https://colab.research.google.com/github/Edith0001/Hur-Se-eun_Portfolio/blob/main/%EC%B6%94%EB%A1%A0%ED%86%B5%EA%B3%84_%EC%8B%A4%EC%8A%B5.ipynb\" target=\"_parent\"><img src=\"https://colab.research.google.com/assets/colab-badge.svg\" alt=\"Open In Colab\"/></a>"
      ]
    },
    {
      "cell_type": "code",
      "execution_count": null,
      "metadata": {
        "id": "As7_mQWomEZ3"
      },
      "outputs": [],
      "source": [
        "import numpy as np\n",
        "import pandas as pd\n",
        "import matplotlib.pyplot as plt\n",
        "import seaborn as sns\n",
        "from scipy import stats #통계라이브러리 | 머신러닝 사이킥런\n",
        "import statsmodels.api as sm #통계라이브러리\n",
        "from statsmodels.formula.api import ols #통계라이브러리\n",
        "from statsmodels.stats.multicomp import pairwise_tukeyhsd #통계라이브러리\n",
        "import warnings\n",
        "warnings.filterwarnings('ignore')\n"
      ]
    },
    {
      "cell_type": "code",
      "source": [
        "# 시각화 스타일 설정\n",
        "plt.style.use('seaborn-v0_8-whitegrid')\n",
        "sns.set_palette(\"pastel\")\n",
        "plt.rcParams['figure.figsize'] = (10, 6)\n",
        "plt.rcParams['font.size'] = 12\n",
        "\n",
        "# 샘플 데이터셋 생성 (주택 가격 분석용)\n",
        "np.random.seed(42)\n",
        "\n",
        "# 샘플 수\n",
        "n = 500\n",
        "\n",
        "# 변수 생성\n",
        "neighborhoods = np.random.choice(['Downtown', 'Suburbs', 'Rural'], n)\n",
        "house_sizes = np.random.normal(2000, 500, n)  # 평방피트\n",
        "num_bedrooms = np.random.choice([2, 3, 4, 5], n, p=[0.1, 0.4, 0.4, 0.1])\n",
        "num_bathrooms = num_bedrooms * 0.6 + np.random.normal(0, 0.5, n)\n",
        "num_bathrooms = np.round(num_bathrooms, 1)\n",
        "has_garage = np.random.choice([0, 1], n, p=[0.3, 0.7])\n",
        "house_age = np.random.gamma(10, 2, n)  # 연식\n",
        "house_age = np.round(house_age)\n",
        "\n",
        "# 종속 변수 생성 (주택 가격)\n",
        "# 기본 가격\n",
        "base_price = 200000\n",
        "# 크기 효과\n",
        "size_effect = 100 * house_sizes\n",
        "# 침실 효과\n",
        "bedroom_effect = 25000 * num_bedrooms\n",
        "# 욕실 효과\n",
        "bathroom_effect = 30000 * num_bathrooms\n",
        "# 차고 효과\n",
        "garage_effect = 25000 * has_garage\n",
        "# 연식 효과 (음수)\n",
        "age_effect = -1000 * house_age\n",
        "# 지역 효과\n",
        "neighborhood_effect = np.zeros(n)\n",
        "neighborhood_effect[neighborhoods == 'Downtown'] = 50000\n",
        "neighborhood_effect[neighborhoods == 'Suburbs'] = 25000\n",
        "\n",
        "# 랜덤 노이즈\n",
        "noise = np.random.normal(0, 20000, n)\n",
        "\n",
        "# 효과를 조합하여 주택 가격 생성\n",
        "house_prices = base_price + size_effect + bedroom_effect + bathroom_effect + garage_effect + age_effect + neighborhood_effect + noise\n",
        "house_prices = np.round(house_prices)\n",
        "\n",
        "# DataFrame 생성\n",
        "housing_df = pd.DataFrame({\n",
        "    'Neighborhood': neighborhoods,\n",
        "    'Size_sqft': house_sizes,\n",
        "    'Bedrooms': num_bedrooms,\n",
        "    'Bathrooms': num_bathrooms,\n",
        "    'Has_Garage': has_garage,\n",
        "    'Age_years': house_age,\n",
        "    'Price': house_prices\n",
        "})\n",
        "\n",
        "# Has_Garage를 범주형으로 변환\n",
        "housing_df['Has_Garage'] = housing_df['Has_Garage'].map({0: 'No', 1: 'Yes'})\n",
        "\n",
        "# 데이터셋 미리보기\n",
        "print(\"주택 가격 데이터셋 개요:\")\n",
        "print(housing_df.head())\n",
        "print(\"\\n데이터셋 요약 통계:\")\n",
        "print(housing_df.describe())\n",
        "\n",
        "# 결측값 확인\n",
        "print(\"\\n결측값:\")\n",
        "print(housing_df.isnull().sum())"
      ],
      "metadata": {
        "colab": {
          "base_uri": "https://localhost:8080/"
        },
        "id": "mBLQwvySmgcS",
        "outputId": "52604e1a-d79a-4c91-a158-fa9d7655b9bf"
      },
      "execution_count": null,
      "outputs": [
        {
          "output_type": "stream",
          "name": "stdout",
          "text": [
            "주택 가격 데이터셋 개요:\n",
            "  Neighborhood    Size_sqft  Bedrooms  Bathrooms Has_Garage  Age_years  \\\n",
            "0        Rural  3593.516669         4        2.2        Yes       18.0   \n",
            "1     Downtown  2042.081761         4        2.5         No       27.0   \n",
            "2        Rural  2486.316433         5        2.7        Yes       22.0   \n",
            "3        Rural  2772.237419         3        1.6        Yes       37.0   \n",
            "4     Downtown  2172.034066         5        3.6        Yes       13.0   \n",
            "\n",
            "      Price  \n",
            "0  754489.0  \n",
            "1  599927.0  \n",
            "2  674424.0  \n",
            "3  568847.0  \n",
            "4  704530.0  \n",
            "\n",
            "데이터셋 요약 통계:\n",
            "         Size_sqft    Bedrooms  Bathrooms   Age_years          Price\n",
            "count   500.000000  500.000000  500.00000  500.000000     500.000000\n",
            "mean   2017.764859    3.506000    2.12120   20.328000  574215.678000\n",
            "std     536.105677    0.829059    0.69371    6.410195   72959.255457\n",
            "min     317.952237    2.000000   -0.00000    6.000000  333586.000000\n",
            "25%    1649.135828    3.000000    1.70000   16.000000  522404.750000\n",
            "50%    2028.032777    4.000000    2.20000   20.000000  575424.000000\n",
            "75%    2408.475075    4.000000    2.60000   24.000000  621632.500000\n",
            "max    3593.516669    5.000000    4.30000   50.000000  802536.000000\n",
            "\n",
            "결측값:\n",
            "Neighborhood    0\n",
            "Size_sqft       0\n",
            "Bedrooms        0\n",
            "Bathrooms       0\n",
            "Has_Garage      0\n",
            "Age_years       0\n",
            "Price           0\n",
            "dtype: int64\n"
          ]
        }
      ]
    },
    {
      "cell_type": "code",
      "source": [],
      "metadata": {
        "id": "B43E5NpUmtLN"
      },
      "execution_count": null,
      "outputs": []
    }
  ]
}